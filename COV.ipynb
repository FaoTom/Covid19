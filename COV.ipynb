{
  "cells": [
    {
      "cell_type": "code",
      "source": [],
      "outputs": [],
      "execution_count": null,
      "metadata": {
        "collapsed": false,
        "jupyter": {
          "source_hidden": false,
          "outputs_hidden": false
        },
        "nteract": {
          "transient": {
            "deleting": false
          }
        }
      }
    },
    {
      "cell_type": "code",
      "source": [
        "import pandas as pd\n",
        "from datetime import datetime \n",
        "import numpy as np\n",
        "\n",
        "import matplotlib.pyplot as plt\n",
        "import matplotlib.lines as line\n",
        "\n",
        "import seaborn as sns\n",
        "\n",
        "import statsmodels as sm\n",
        "\n",
        "from math import sqrt\n",
        "\n",
        "from scipy import stats\n",
        "from scipy.odr import *\n",
        "from scipy.integrate import odeint\n",
        "from scipy.optimize import curve_fit\n",
        "\n",
        "%matplotlib inline"
      ],
      "outputs": [],
      "execution_count": null,
      "metadata": {
        "collapsed": false,
        "jupyter": {
          "source_hidden": false,
          "outputs_hidden": false
        },
        "nteract": {
          "transient": {
            "deleting": false
          }
        }
      }
    },
    {
      "cell_type": "code",
      "source": [
        "data=pd.read_csv('dpc-covid19-ita-andamento-nazionale.csv')\n",
        "data['data'] = pd.to_datetime(data['data'])\n",
        "data['data'] = data['data'].dt.strftime('%d/%m')\n",
        "data.index=data['data']\n",
        "data['totale_attualmente_positivi']=data['totale_attualmente_positivi']/60483973\n",
        "data.drop('data',axis=1)"
      ],
      "outputs": [],
      "execution_count": null,
      "metadata": {
        "collapsed": false,
        "jupyter": {
          "source_hidden": false,
          "outputs_hidden": false
        },
        "nteract": {
          "transient": {
            "deleting": false
          }
        }
      }
    },
    {
      "cell_type": "code",
      "source": [
        "fig=plt.figure(figsize=(18,16))\n",
        "new=fig.add_subplot(1,1,1)\n",
        "new.plot(data.index,data['nuovi_attualmente_positivi']+data['dimessi_guariti']+data['deceduti'],'--',label='NEW')\n",
        "new.plot(data.index,data['nuovi_attualmente_positivi'],'--',label='ACNEW')\n",
        "new.legend()\n",
        "\n",
        "#grw=fig.add_subplot(2,2,3)\n",
        "#grw.plot(data.index,data['GRW'],'--',label='GRW')\n",
        "#grw.plot(data.index,data['ACGRW'],'--',label='ACGRW')\n",
        "#l = line.Line2D([13,25], [1,1])\n",
        "#grw.add_line(l)\n",
        "#grw.legend()\n",
        "\n",
        "fig"
      ],
      "outputs": [],
      "execution_count": null,
      "metadata": {
        "collapsed": false,
        "jupyter": {
          "source_hidden": false,
          "outputs_hidden": false
        },
        "nteract": {
          "transient": {
            "deleting": false
          }
        }
      }
    },
    {
      "cell_type": "code",
      "source": [
        "trans = 2.3 #rateo di trasmissione\n",
        "recov = 0.6 #rateo di recovery\n",
        "tmax = 60#numero di giorni fittizio\n",
        "totpos=data['totale_attualmente_positivi']\n",
        "#initial conditions\n",
        "sstart = 1-totpos['13/03']\n",
        "rstart = 0\n",
        "istart = data.loc['13/03']\n",
        "# time points\n",
        "t = data.index\n",
        "t=date(t)\n",
        "#fit base\n",
        "def modelI(t,trans,recov):\n",
        "# function that returns dy/dt\n",
        "    def model(y,t):\n",
        "        S=y[0]\n",
        "        I=y[1]\n",
        "        R=y[2]\n",
        "        dS = -trans*S*I\n",
        "        dI = trans*S*I-recov*I\n",
        "        dR = recov*I\n",
        "        return [dS,dI,dR]\n",
        "    y0=[sstart,istart,rstart]\n",
        "    # solve ODE\n",
        "    y = odeint(model,y0,t)\n",
        "    return y[:,1]"
      ],
      "outputs": [],
      "execution_count": null,
      "metadata": {
        "collapsed": false,
        "jupyter": {
          "source_hidden": false,
          "outputs_hidden": false
        },
        "nteract": {
          "transient": {
            "deleting": false
          }
        }
      }
    },
    {
      "cell_type": "code",
      "source": [
        "p,cov=curve_fit(modelI,data.index,data['totale_attualmente_positivi'])\n",
        "trans,recov=p\n",
        "fit=modelI(t,trans,recov)\n",
        "tot.plot(t,fit,'k--',label='Model')\n",
        "tot.legend()\n",
        "fig"
      ],
      "outputs": [],
      "execution_count": null,
      "metadata": {
        "collapsed": false,
        "jupyter": {
          "source_hidden": false,
          "outputs_hidden": false
        },
        "nteract": {
          "transient": {
            "deleting": false
          }
        }
      }
    },
    {
      "cell_type": "code",
      "source": [
        "p"
      ],
      "outputs": [],
      "execution_count": null,
      "metadata": {
        "collapsed": false,
        "jupyter": {
          "source_hidden": false,
          "outputs_hidden": false
        },
        "nteract": {
          "transient": {
            "deleting": false
          }
        }
      }
    }
  ],
  "metadata": {
    "kernelspec": {
      "argv": [
        "python",
        "-m",
        "ipykernel_launcher",
        "-f",
        "{connection_file}"
      ],
      "display_name": "Python 3",
      "language": "python",
      "name": "python3"
    }
  },
  "nbformat": 4,
  "nbformat_minor": 0
}